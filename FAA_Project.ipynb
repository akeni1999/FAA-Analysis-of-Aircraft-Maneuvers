{
  "cells": [
    {
      "cell_type": "markdown",
      "id": "2a8457a8",
      "metadata": {
        "id": "2a8457a8"
      },
      "source": [
        "# Data preparation"
      ]
    },
    {
      "cell_type": "markdown",
      "id": "31de9e92",
      "metadata": {
        "id": "31de9e92"
      },
      "source": [
        "## Importing libraries\n"
      ]
    },
    {
      "cell_type": "code",
      "execution_count": null,
      "id": "dkl5Ayy7WeUd",
      "metadata": {
        "colab": {
          "base_uri": "https://localhost:8080/"
        },
        "id": "dkl5Ayy7WeUd",
        "outputId": "0b1d9faf-bfd8-4225-cd10-19e5371f8fb4"
      },
      "outputs": [
        {
          "output_type": "stream",
          "name": "stdout",
          "text": [
            "Mounted at /content/drive\n"
          ]
        }
      ],
      "source": [
        " from google.colab import drive\n",
        " drive.mount('/content/drive')"
      ]
    },
    {
      "cell_type": "code",
      "execution_count": null,
      "id": "7865518f",
      "metadata": {
        "id": "7865518f"
      },
      "outputs": [],
      "source": [
        "#import data manipulation and analysis packages\n",
        "import pandas as pd\n",
        "import numpy as np\n",
        "import seaborn as sns\n",
        "import matplotlib.pyplot as plt\n",
        "from datetime import datetime as dt\n",
        "\n",
        "#import tensorflow/keras packages (for autoencoder)\n",
        "from keras.layers import Dense, Input, Conv2D, LSTM, MaxPool2D, UpSampling2D\n",
        "from sklearn.model_selection import train_test_split\n",
        "from keras.callbacks import EarlyStopping\n",
        "from keras.utils import to_categorical\n",
        "from numpy import argmax, array_equal\n",
        "import matplotlib.pyplot as plt\n",
        "from keras.models import Model\n",
        "from imgaug import augmenters\n",
        "from random import randint\n",
        "from keras import Sequential\n",
        "from keras import regularizers\n",
        "from sklearn.manifold import TSNE\n",
        "from sklearn.linear_model import LogisticRegression\n",
        "from sklearn.metrics import classification_report\n",
        "from sklearn.metrics import accuracy_score\n",
        "from sklearn import preprocessing"
      ]
    },
    {
      "cell_type": "markdown",
      "id": "e53f0c9d",
      "metadata": {
        "id": "e53f0c9d"
      },
      "source": [
        "## Importing Dataset"
      ]
    },
    {
      "cell_type": "code",
      "execution_count": null,
      "id": "c5dcf454",
      "metadata": {
        "colab": {
          "base_uri": "https://localhost:8080/",
          "height": 380
        },
        "id": "c5dcf454",
        "outputId": "c6053876-2a48-4b5a-8a81-e5152b593c42"
      },
      "outputs": [
        {
          "output_type": "error",
          "ename": "FileNotFoundError",
          "evalue": "ignored",
          "traceback": [
            "\u001b[0;31m---------------------------------------------------------------------------\u001b[0m",
            "\u001b[0;31mFileNotFoundError\u001b[0m                         Traceback (most recent call last)",
            "\u001b[0;32m<ipython-input-3-008d29c1b3a5>\u001b[0m in \u001b[0;36m<cell line: 2>\u001b[0;34m()\u001b[0m\n\u001b[1;32m      1\u001b[0m \u001b[0;31m# import data on 10/06/2022\u001b[0m\u001b[0;34m\u001b[0m\u001b[0;34m\u001b[0m\u001b[0m\n\u001b[0;32m----> 2\u001b[0;31m \u001b[0mdf1\u001b[0m \u001b[0;34m=\u001b[0m \u001b[0mpd\u001b[0m\u001b[0;34m.\u001b[0m\u001b[0mread_csv\u001b[0m\u001b[0;34m(\u001b[0m\u001b[0;34m\"SimData_221006_1.csv\"\u001b[0m\u001b[0;34m)\u001b[0m\u001b[0;34m\u001b[0m\u001b[0;34m\u001b[0m\u001b[0m\n\u001b[0m\u001b[1;32m      3\u001b[0m \u001b[0mdf2\u001b[0m \u001b[0;34m=\u001b[0m \u001b[0mpd\u001b[0m\u001b[0;34m.\u001b[0m\u001b[0mread_csv\u001b[0m\u001b[0;34m(\u001b[0m\u001b[0;34m\"SimData_221006_2.csv\"\u001b[0m\u001b[0;34m)\u001b[0m\u001b[0;34m\u001b[0m\u001b[0;34m\u001b[0m\u001b[0m\n\u001b[1;32m      4\u001b[0m \u001b[0mdf3\u001b[0m \u001b[0;34m=\u001b[0m \u001b[0mpd\u001b[0m\u001b[0;34m.\u001b[0m\u001b[0mread_csv\u001b[0m\u001b[0;34m(\u001b[0m\u001b[0;34m\"SimData_221006_3.csv\"\u001b[0m\u001b[0;34m)\u001b[0m\u001b[0;34m\u001b[0m\u001b[0;34m\u001b[0m\u001b[0m\n\u001b[1;32m      5\u001b[0m \u001b[0mdf4\u001b[0m \u001b[0;34m=\u001b[0m \u001b[0mpd\u001b[0m\u001b[0;34m.\u001b[0m\u001b[0mread_csv\u001b[0m\u001b[0;34m(\u001b[0m\u001b[0;34m\"SimData_221006_4.csv\"\u001b[0m\u001b[0;34m)\u001b[0m\u001b[0;34m\u001b[0m\u001b[0;34m\u001b[0m\u001b[0m\n",
            "\u001b[0;32m/usr/local/lib/python3.10/dist-packages/pandas/util/_decorators.py\u001b[0m in \u001b[0;36mwrapper\u001b[0;34m(*args, **kwargs)\u001b[0m\n\u001b[1;32m    209\u001b[0m                 \u001b[0;32melse\u001b[0m\u001b[0;34m:\u001b[0m\u001b[0;34m\u001b[0m\u001b[0;34m\u001b[0m\u001b[0m\n\u001b[1;32m    210\u001b[0m                     \u001b[0mkwargs\u001b[0m\u001b[0;34m[\u001b[0m\u001b[0mnew_arg_name\u001b[0m\u001b[0;34m]\u001b[0m \u001b[0;34m=\u001b[0m \u001b[0mnew_arg_value\u001b[0m\u001b[0;34m\u001b[0m\u001b[0;34m\u001b[0m\u001b[0m\n\u001b[0;32m--> 211\u001b[0;31m             \u001b[0;32mreturn\u001b[0m \u001b[0mfunc\u001b[0m\u001b[0;34m(\u001b[0m\u001b[0;34m*\u001b[0m\u001b[0margs\u001b[0m\u001b[0;34m,\u001b[0m \u001b[0;34m**\u001b[0m\u001b[0mkwargs\u001b[0m\u001b[0;34m)\u001b[0m\u001b[0;34m\u001b[0m\u001b[0;34m\u001b[0m\u001b[0m\n\u001b[0m\u001b[1;32m    212\u001b[0m \u001b[0;34m\u001b[0m\u001b[0m\n\u001b[1;32m    213\u001b[0m         \u001b[0;32mreturn\u001b[0m \u001b[0mcast\u001b[0m\u001b[0;34m(\u001b[0m\u001b[0mF\u001b[0m\u001b[0;34m,\u001b[0m \u001b[0mwrapper\u001b[0m\u001b[0;34m)\u001b[0m\u001b[0;34m\u001b[0m\u001b[0;34m\u001b[0m\u001b[0m\n",
            "\u001b[0;32m/usr/local/lib/python3.10/dist-packages/pandas/util/_decorators.py\u001b[0m in \u001b[0;36mwrapper\u001b[0;34m(*args, **kwargs)\u001b[0m\n\u001b[1;32m    329\u001b[0m                     \u001b[0mstacklevel\u001b[0m\u001b[0;34m=\u001b[0m\u001b[0mfind_stack_level\u001b[0m\u001b[0;34m(\u001b[0m\u001b[0;34m)\u001b[0m\u001b[0;34m,\u001b[0m\u001b[0;34m\u001b[0m\u001b[0;34m\u001b[0m\u001b[0m\n\u001b[1;32m    330\u001b[0m                 )\n\u001b[0;32m--> 331\u001b[0;31m             \u001b[0;32mreturn\u001b[0m \u001b[0mfunc\u001b[0m\u001b[0;34m(\u001b[0m\u001b[0;34m*\u001b[0m\u001b[0margs\u001b[0m\u001b[0;34m,\u001b[0m \u001b[0;34m**\u001b[0m\u001b[0mkwargs\u001b[0m\u001b[0;34m)\u001b[0m\u001b[0;34m\u001b[0m\u001b[0;34m\u001b[0m\u001b[0m\n\u001b[0m\u001b[1;32m    332\u001b[0m \u001b[0;34m\u001b[0m\u001b[0m\n\u001b[1;32m    333\u001b[0m         \u001b[0;31m# error: \"Callable[[VarArg(Any), KwArg(Any)], Any]\" has no\u001b[0m\u001b[0;34m\u001b[0m\u001b[0;34m\u001b[0m\u001b[0m\n",
            "\u001b[0;32m/usr/local/lib/python3.10/dist-packages/pandas/io/parsers/readers.py\u001b[0m in \u001b[0;36mread_csv\u001b[0;34m(filepath_or_buffer, sep, delimiter, header, names, index_col, usecols, squeeze, prefix, mangle_dupe_cols, dtype, engine, converters, true_values, false_values, skipinitialspace, skiprows, skipfooter, nrows, na_values, keep_default_na, na_filter, verbose, skip_blank_lines, parse_dates, infer_datetime_format, keep_date_col, date_parser, dayfirst, cache_dates, iterator, chunksize, compression, thousands, decimal, lineterminator, quotechar, quoting, doublequote, escapechar, comment, encoding, encoding_errors, dialect, error_bad_lines, warn_bad_lines, on_bad_lines, delim_whitespace, low_memory, memory_map, float_precision, storage_options)\u001b[0m\n\u001b[1;32m    948\u001b[0m     \u001b[0mkwds\u001b[0m\u001b[0;34m.\u001b[0m\u001b[0mupdate\u001b[0m\u001b[0;34m(\u001b[0m\u001b[0mkwds_defaults\u001b[0m\u001b[0;34m)\u001b[0m\u001b[0;34m\u001b[0m\u001b[0;34m\u001b[0m\u001b[0m\n\u001b[1;32m    949\u001b[0m \u001b[0;34m\u001b[0m\u001b[0m\n\u001b[0;32m--> 950\u001b[0;31m     \u001b[0;32mreturn\u001b[0m \u001b[0m_read\u001b[0m\u001b[0;34m(\u001b[0m\u001b[0mfilepath_or_buffer\u001b[0m\u001b[0;34m,\u001b[0m \u001b[0mkwds\u001b[0m\u001b[0;34m)\u001b[0m\u001b[0;34m\u001b[0m\u001b[0;34m\u001b[0m\u001b[0m\n\u001b[0m\u001b[1;32m    951\u001b[0m \u001b[0;34m\u001b[0m\u001b[0m\n\u001b[1;32m    952\u001b[0m \u001b[0;34m\u001b[0m\u001b[0m\n",
            "\u001b[0;32m/usr/local/lib/python3.10/dist-packages/pandas/io/parsers/readers.py\u001b[0m in \u001b[0;36m_read\u001b[0;34m(filepath_or_buffer, kwds)\u001b[0m\n\u001b[1;32m    603\u001b[0m \u001b[0;34m\u001b[0m\u001b[0m\n\u001b[1;32m    604\u001b[0m     \u001b[0;31m# Create the parser.\u001b[0m\u001b[0;34m\u001b[0m\u001b[0;34m\u001b[0m\u001b[0m\n\u001b[0;32m--> 605\u001b[0;31m     \u001b[0mparser\u001b[0m \u001b[0;34m=\u001b[0m \u001b[0mTextFileReader\u001b[0m\u001b[0;34m(\u001b[0m\u001b[0mfilepath_or_buffer\u001b[0m\u001b[0;34m,\u001b[0m \u001b[0;34m**\u001b[0m\u001b[0mkwds\u001b[0m\u001b[0;34m)\u001b[0m\u001b[0;34m\u001b[0m\u001b[0;34m\u001b[0m\u001b[0m\n\u001b[0m\u001b[1;32m    606\u001b[0m \u001b[0;34m\u001b[0m\u001b[0m\n\u001b[1;32m    607\u001b[0m     \u001b[0;32mif\u001b[0m \u001b[0mchunksize\u001b[0m \u001b[0;32mor\u001b[0m \u001b[0miterator\u001b[0m\u001b[0;34m:\u001b[0m\u001b[0;34m\u001b[0m\u001b[0;34m\u001b[0m\u001b[0m\n",
            "\u001b[0;32m/usr/local/lib/python3.10/dist-packages/pandas/io/parsers/readers.py\u001b[0m in \u001b[0;36m__init__\u001b[0;34m(self, f, engine, **kwds)\u001b[0m\n\u001b[1;32m   1440\u001b[0m \u001b[0;34m\u001b[0m\u001b[0m\n\u001b[1;32m   1441\u001b[0m         \u001b[0mself\u001b[0m\u001b[0;34m.\u001b[0m\u001b[0mhandles\u001b[0m\u001b[0;34m:\u001b[0m \u001b[0mIOHandles\u001b[0m \u001b[0;34m|\u001b[0m \u001b[0;32mNone\u001b[0m \u001b[0;34m=\u001b[0m \u001b[0;32mNone\u001b[0m\u001b[0;34m\u001b[0m\u001b[0;34m\u001b[0m\u001b[0m\n\u001b[0;32m-> 1442\u001b[0;31m         \u001b[0mself\u001b[0m\u001b[0;34m.\u001b[0m\u001b[0m_engine\u001b[0m \u001b[0;34m=\u001b[0m \u001b[0mself\u001b[0m\u001b[0;34m.\u001b[0m\u001b[0m_make_engine\u001b[0m\u001b[0;34m(\u001b[0m\u001b[0mf\u001b[0m\u001b[0;34m,\u001b[0m \u001b[0mself\u001b[0m\u001b[0;34m.\u001b[0m\u001b[0mengine\u001b[0m\u001b[0;34m)\u001b[0m\u001b[0;34m\u001b[0m\u001b[0;34m\u001b[0m\u001b[0m\n\u001b[0m\u001b[1;32m   1443\u001b[0m \u001b[0;34m\u001b[0m\u001b[0m\n\u001b[1;32m   1444\u001b[0m     \u001b[0;32mdef\u001b[0m \u001b[0mclose\u001b[0m\u001b[0;34m(\u001b[0m\u001b[0mself\u001b[0m\u001b[0;34m)\u001b[0m \u001b[0;34m->\u001b[0m \u001b[0;32mNone\u001b[0m\u001b[0;34m:\u001b[0m\u001b[0;34m\u001b[0m\u001b[0;34m\u001b[0m\u001b[0m\n",
            "\u001b[0;32m/usr/local/lib/python3.10/dist-packages/pandas/io/parsers/readers.py\u001b[0m in \u001b[0;36m_make_engine\u001b[0;34m(self, f, engine)\u001b[0m\n\u001b[1;32m   1733\u001b[0m                 \u001b[0;32mif\u001b[0m \u001b[0;34m\"b\"\u001b[0m \u001b[0;32mnot\u001b[0m \u001b[0;32min\u001b[0m \u001b[0mmode\u001b[0m\u001b[0;34m:\u001b[0m\u001b[0;34m\u001b[0m\u001b[0;34m\u001b[0m\u001b[0m\n\u001b[1;32m   1734\u001b[0m                     \u001b[0mmode\u001b[0m \u001b[0;34m+=\u001b[0m \u001b[0;34m\"b\"\u001b[0m\u001b[0;34m\u001b[0m\u001b[0;34m\u001b[0m\u001b[0m\n\u001b[0;32m-> 1735\u001b[0;31m             self.handles = get_handle(\n\u001b[0m\u001b[1;32m   1736\u001b[0m                 \u001b[0mf\u001b[0m\u001b[0;34m,\u001b[0m\u001b[0;34m\u001b[0m\u001b[0;34m\u001b[0m\u001b[0m\n\u001b[1;32m   1737\u001b[0m                 \u001b[0mmode\u001b[0m\u001b[0;34m,\u001b[0m\u001b[0;34m\u001b[0m\u001b[0;34m\u001b[0m\u001b[0m\n",
            "\u001b[0;32m/usr/local/lib/python3.10/dist-packages/pandas/io/common.py\u001b[0m in \u001b[0;36mget_handle\u001b[0;34m(path_or_buf, mode, encoding, compression, memory_map, is_text, errors, storage_options)\u001b[0m\n\u001b[1;32m    854\u001b[0m         \u001b[0;32mif\u001b[0m \u001b[0mioargs\u001b[0m\u001b[0;34m.\u001b[0m\u001b[0mencoding\u001b[0m \u001b[0;32mand\u001b[0m \u001b[0;34m\"b\"\u001b[0m \u001b[0;32mnot\u001b[0m \u001b[0;32min\u001b[0m \u001b[0mioargs\u001b[0m\u001b[0;34m.\u001b[0m\u001b[0mmode\u001b[0m\u001b[0;34m:\u001b[0m\u001b[0;34m\u001b[0m\u001b[0;34m\u001b[0m\u001b[0m\n\u001b[1;32m    855\u001b[0m             \u001b[0;31m# Encoding\u001b[0m\u001b[0;34m\u001b[0m\u001b[0;34m\u001b[0m\u001b[0m\n\u001b[0;32m--> 856\u001b[0;31m             handle = open(\n\u001b[0m\u001b[1;32m    857\u001b[0m                 \u001b[0mhandle\u001b[0m\u001b[0;34m,\u001b[0m\u001b[0;34m\u001b[0m\u001b[0;34m\u001b[0m\u001b[0m\n\u001b[1;32m    858\u001b[0m                 \u001b[0mioargs\u001b[0m\u001b[0;34m.\u001b[0m\u001b[0mmode\u001b[0m\u001b[0;34m,\u001b[0m\u001b[0;34m\u001b[0m\u001b[0;34m\u001b[0m\u001b[0m\n",
            "\u001b[0;31mFileNotFoundError\u001b[0m: [Errno 2] No such file or directory: 'SimData_221006_1.csv'"
          ]
        }
      ],
      "source": [
        "# import data on 10/06/2022\n",
        "df1 = pd.read_csv(\"SimData_221006_1.csv\")\n",
        "df2 = pd.read_csv(\"SimData_221006_2.csv\")\n",
        "df3 = pd.read_csv(\"SimData_221006_3.csv\")\n",
        "df4 = pd.read_csv(\"SimData_221006_4.csv\")\n",
        "df5 = pd.read_csv(\"SimData_221006_5.csv\")\n",
        "df6 = pd.read_csv(\"SimData_221006_6.csv\")\n",
        "df7 = pd.read_csv(\"SimData_221006_7.csv\")\n",
        "df8 = pd.read_csv(\"SimData_221006_8.csv\")\n",
        "\n",
        "# combine data on 10/06/2022\n",
        "df_221006 = pd.concat([df1, df2], axis=0)\n",
        "df_221006 = pd.concat([df_221006, df3], axis=0)\n",
        "df_221006 = pd.concat([df_221006, df4], axis=0)\n",
        "df_221006 = pd.concat([df_221006, df5], axis=0)\n",
        "df_221006 = pd.concat([df_221006, df6], axis=0)\n",
        "df_221006 = pd.concat([df_221006, df7], axis=0)\n",
        "df_221006 = pd.concat([df_221006, df8], axis=0)\n",
        "\n",
        "df_221006.shape"
      ]
    },
    {
      "cell_type": "code",
      "source": [
        "from google.colab import drive\n",
        "drive.mount('/content/drive')"
      ],
      "metadata": {
        "id": "K5mjVmbC3fEQ"
      },
      "id": "K5mjVmbC3fEQ",
      "execution_count": null,
      "outputs": []
    },
    {
      "cell_type": "code",
      "execution_count": null,
      "id": "D7vj6w2EceOx",
      "metadata": {
        "id": "D7vj6w2EceOx"
      },
      "outputs": [],
      "source": [
        "# import data on 10/20/2022\n",
        "df1 = pd.read_csv(\"SimData_221020_1.csv\")\n",
        "df2 = pd.read_csv(\"SimData_221020_2.csv\")\n",
        "df3 = pd.read_csv(\"SimData_221020_3.csv\")\n",
        "df4 = pd.read_csv(\"SimData_221020_4.csv\")\n",
        "df5 = pd.read_csv(\"SimData_221020_5.csv\")\n",
        "df6 = pd.read_csv(\"SimData_221020_6.csv\")\n",
        "\n",
        "# combine data on 10/20/2022\n",
        "df_221020 = pd.concat([df1, df2], axis=0)\n",
        "df_221020 = pd.concat([df_221020, df3], axis=0)\n",
        "df_221020 = pd.concat([df_221020, df4], axis=0)\n",
        "df_221020 = pd.concat([df_221020, df5], axis=0)\n",
        "df_221020 = pd.concat([df_221020, df6], axis=0)\n",
        "\n",
        "df_221020.shape"
      ]
    },
    {
      "cell_type": "code",
      "execution_count": null,
      "id": "a1EImBticeSH",
      "metadata": {
        "id": "a1EImBticeSH"
      },
      "outputs": [],
      "source": [
        "# import data on 12/15/2022\n",
        "df1 = pd.read_csv(\"SimData_221215_1.csv\")\n",
        "df2 = pd.read_csv(\"SimData_221215_2.csv\")\n",
        "df3 = pd.read_csv(\"SimData_221215_3.csv\")\n",
        "\n",
        "# combine data on 12/15/2022\n",
        "df_221215 = pd.concat([df1, df2], axis=0)\n",
        "df_221215 = pd.concat([df_221215, df3], axis=0)\n",
        "\n",
        "df_221215.shape"
      ]
    },
    {
      "cell_type": "code",
      "execution_count": null,
      "id": "yhaHQUVcceWK",
      "metadata": {
        "id": "yhaHQUVcceWK"
      },
      "outputs": [],
      "source": [
        "# import data on 02/16/2023\n",
        "df1 = pd.read_csv(\"SimData_230216_1.csv\")\n",
        "df2 = pd.read_csv(\"SimData_230216_2.csv\")\n",
        "df3 = pd.read_csv(\"SimData_230216_3.csv\")\n",
        "df4 = pd.read_csv(\"SimData_230216_4.csv\")\n",
        "df5 = pd.read_csv(\"SimData_230216_5.csv\")\n",
        "df6 = pd.read_csv(\"SimData_230216_6.csv\")\n",
        "df7 = pd.read_csv(\"SimData_230216_7.csv\")\n",
        "df8 = pd.read_csv(\"SimData_230216_8.csv\")\n",
        "df9 = pd.read_csv(\"SimData_230216_9.csv\")\n",
        "df10 = pd.read_csv(\"SimData_230216_10.csv\")\n",
        "df11 = pd.read_csv(\"SimData_230216_11.csv\")\n",
        "df12 = pd.read_csv(\"SimData_230216_12.csv\")\n",
        "df13 = pd.read_csv(\"SimData_230216_13.csv\")\n",
        "df14 = pd.read_csv(\"SimData_230216_14.csv\")\n",
        "\n",
        "\n",
        "# combine data on 02/16/2023\n",
        "df_230216 = pd.concat([df1, df2], axis=0)\n",
        "df_230216 = pd.concat([df_230216, df3], axis=0)\n",
        "df_230216 = pd.concat([df_230216, df4], axis=0)\n",
        "df_230216 = pd.concat([df_230216, df5], axis=0)\n",
        "df_230216 = pd.concat([df_230216, df6], axis=0)\n",
        "df_230216 = pd.concat([df_230216, df7], axis=0)\n",
        "df_230216 = pd.concat([df_230216, df8], axis=0)\n",
        "df_230216 = pd.concat([df_230216, df9], axis=0)\n",
        "df_230216 = pd.concat([df_230216, df10], axis=0)\n",
        "df_230216 = pd.concat([df_230216, df11], axis=0)\n",
        "df_230216 = pd.concat([df_230216, df12], axis=0)\n",
        "df_230216 = pd.concat([df_230216, df13], axis=0)\n",
        "df_230216 = pd.concat([df_230216, df14], axis=0)\n",
        "\n",
        "df_230216.shape"
      ]
    },
    {
      "cell_type": "markdown",
      "id": "6fdd7e11",
      "metadata": {
        "id": "6fdd7e11"
      },
      "source": [
        "## Taking care of missing data"
      ]
    },
    {
      "cell_type": "code",
      "execution_count": null,
      "id": "f5b39fd7",
      "metadata": {
        "id": "f5b39fd7"
      },
      "outputs": [],
      "source": [
        "df_221006.isnull().sum().sum()"
      ]
    },
    {
      "cell_type": "code",
      "execution_count": null,
      "id": "7m_DroX8cudn",
      "metadata": {
        "id": "7m_DroX8cudn"
      },
      "outputs": [],
      "source": [
        "df_221020.isnull().sum().sum()"
      ]
    },
    {
      "cell_type": "code",
      "execution_count": null,
      "id": "kOR2Q7uFcui3",
      "metadata": {
        "id": "kOR2Q7uFcui3"
      },
      "outputs": [],
      "source": [
        "df_221215.isnull().sum().sum()"
      ]
    },
    {
      "cell_type": "code",
      "execution_count": null,
      "id": "hsmFeMewcumL",
      "metadata": {
        "id": "hsmFeMewcumL"
      },
      "outputs": [],
      "source": [
        "df_230216.isnull().sum().sum()"
      ]
    },
    {
      "cell_type": "code",
      "execution_count": null,
      "id": "TqKYENdncupg",
      "metadata": {
        "id": "TqKYENdncupg"
      },
      "outputs": [],
      "source": [
        "df_221215.columns[df_221215.isnull().any()]"
      ]
    },
    {
      "cell_type": "code",
      "execution_count": null,
      "id": "ABN3pA8KcuvU",
      "metadata": {
        "id": "ABN3pA8KcuvU"
      },
      "outputs": [],
      "source": [
        "df_230216.columns[df_230216.isnull().any()]"
      ]
    },
    {
      "cell_type": "code",
      "source": [],
      "metadata": {
        "id": "DtI7Js-bw87X"
      },
      "id": "DtI7Js-bw87X",
      "execution_count": null,
      "outputs": []
    },
    {
      "cell_type": "markdown",
      "id": "a668504d",
      "metadata": {
        "id": "a668504d"
      },
      "source": [
        "## Converting time zone"
      ]
    },
    {
      "cell_type": "code",
      "execution_count": null,
      "id": "9382e1b5",
      "metadata": {
        "id": "9382e1b5"
      },
      "outputs": [],
      "source": [
        "## convert time zone to UTC-1\n",
        "df_221006['timestamp'] = pd.to_datetime(df_221006['timestamp'])\n",
        "df_221006['timestamp'] = df_221006['timestamp'].dt.tz_convert('Etc/GMT+4')\n",
        "df_221006.head()"
      ]
    },
    {
      "cell_type": "code",
      "execution_count": null,
      "id": "xwGopB-rc6Ji",
      "metadata": {
        "id": "xwGopB-rc6Ji"
      },
      "outputs": [],
      "source": [
        "## convert time zone to UTC-1\n",
        "df_221020['timestamp'] = pd.to_datetime(df_221020['timestamp'])\n",
        "df_221020['timestamp'] = df_221020['timestamp'].dt.tz_convert('Etc/GMT+4')\n",
        "df_221020.head()"
      ]
    },
    {
      "cell_type": "code",
      "execution_count": null,
      "id": "rht7cg9hc6Oz",
      "metadata": {
        "id": "rht7cg9hc6Oz"
      },
      "outputs": [],
      "source": [
        "## convert time zone to UTC-5\n",
        "df_221215['timestamp'] = pd.to_datetime(df_221215['timestamp'])\n",
        "df_221215['timestamp'] = df_221215['timestamp'].dt.tz_convert('Etc/GMT+5')\n",
        "df_221215.head()"
      ]
    },
    {
      "cell_type": "code",
      "execution_count": null,
      "id": "TXDN9qebc6R5",
      "metadata": {
        "id": "TXDN9qebc6R5"
      },
      "outputs": [],
      "source": [
        "## convert time zone to UTC-2\n",
        "df_230216['timestamp'] = pd.to_datetime(df_230216['timestamp'])\n",
        "df_230216['timestamp'] = df_230216['timestamp'].dt.tz_convert('Etc/GMT+5')\n",
        "df_230216.head()"
      ]
    },
    {
      "cell_type": "code",
      "execution_count": null,
      "id": "UGWWKAH-c6Vr",
      "metadata": {
        "id": "UGWWKAH-c6Vr"
      },
      "outputs": [],
      "source": [
        "df_221006.to_csv(\"SimData_df221006.csv\", index=False)\n",
        "df_221020.to_csv(\"SimData_df221020.csv\", index=False)\n",
        "df_221215.to_csv(\"SimData_df221215.csv\", index=False)\n",
        "df_230216.to_csv(\"SimData_df230216.csv\", index=False)"
      ]
    },
    {
      "cell_type": "markdown",
      "id": "691d8f62",
      "metadata": {
        "id": "691d8f62"
      },
      "source": [
        "## Labelling s-turn (manually)"
      ]
    },
    {
      "cell_type": "code",
      "execution_count": null,
      "id": "02sOCx-4dC7N",
      "metadata": {
        "id": "02sOCx-4dC7N"
      },
      "outputs": [],
      "source": [
        "df_221006 = pd.read_csv(\"SimData_df221006.csv\")\n",
        "df_221020 = pd.read_csv(\"SimData_df221020.csv\")\n",
        "df_221215 = pd.read_csv(\"SimData_df221215.csv\")\n",
        "df_230216 = pd.read_csv(\"SimData_df230216.csv\")"
      ]
    },
    {
      "cell_type": "code",
      "execution_count": null,
      "id": "84KMJBvTdE1E",
      "metadata": {
        "id": "84KMJBvTdE1E"
      },
      "outputs": [],
      "source": [
        "## convert to datetime index\n",
        "df_221006['timeidx'] = pd.to_datetime(df_221006['timestamp'])\n",
        "df_221006 = df_221006.set_index('timeidx')\n",
        "\n",
        "df_221020['timeidx'] = pd.to_datetime(df_221020['timestamp'])\n",
        "df_221020 = df_221020.set_index('timeidx')\n",
        "\n",
        "df_221215['timeidx'] = pd.to_datetime(df_221215['timestamp'])\n",
        "df_221215 = df_221215.set_index('timeidx')\n",
        "\n",
        "df_230216['timeidx'] = pd.to_datetime(df_230216['timestamp'])\n",
        "df_230216 = df_230216.set_index('timeidx')"
      ]
    },
    {
      "cell_type": "code",
      "execution_count": null,
      "id": "e753802b",
      "metadata": {
        "id": "e753802b"
      },
      "outputs": [],
      "source": [
        "list(df_221006.columns)"
      ]
    },
    {
      "cell_type": "code",
      "execution_count": null,
      "id": "785e7172",
      "metadata": {
        "id": "785e7172"
      },
      "outputs": [],
      "source": [
        "## sTurn features: surfaceWindDirection, surfaceWindSpeed, gpsAltitude, groundSpeed, angleOfAttack\n",
        "\n",
        "ttotal = df_221020.between_time(start_time = '15:00:00', end_time = '15:20:00')\n",
        "tstart = df_221020.between_time(start_time = '15:03:00', end_time = '15:06:00')\n",
        "tend = df_221020.between_time(start_time = '15:13:00', end_time = '15:14:00')\n",
        "\n",
        "f, axarr = plt.subplots(3, 3, figsize=(10,10), sharex='col')\n",
        "\n",
        "sns.lineplot(x = ttotal.index, y = ttotal.surfaceWindDirection, color = 'blue', label = 'surfaceWindDirection', ax=axarr[0][0])\n",
        "sns.lineplot(x = ttotal.index, y = ttotal.surfaceWindSpeed, color = 'green', label = 'surfaceWindSpeed', ax=axarr[0][0])\n",
        "sns.lineplot(x = ttotal.index, y = ttotal.gpsAltitude, color = 'yellow', label = 'gpsAltitude', ax=axarr[1][0])\n",
        "sns.lineplot(x = ttotal.index, y = ttotal.groundSpeed, color = 'red', label = 'groundSpeed', ax=axarr[1][0])\n",
        "sns.lineplot(x = ttotal.index, y = ttotal.angleOfAttack, color = 'black', label = 'angleOfAttack', ax=axarr[2][0])\n",
        "\n",
        "sns.lineplot(x = tstart.index, y = tstart.surfaceWindDirection, color = 'blue', label = 'surfaceWindDirection', ax=axarr[0][1])\n",
        "sns.lineplot(x = tstart.index, y = tstart.surfaceWindSpeed, color = 'green', label = 'surfaceWindSpeed', ax=axarr[0][1])\n",
        "sns.lineplot(x = tstart.index, y = tstart.gpsAltitude, color = 'yellow', label = 'gpsAltitude', ax=axarr[1][1])\n",
        "sns.lineplot(x = tstart.index, y = tstart.groundSpeed, color = 'red', label = 'groundSpeed', ax=axarr[1][1])\n",
        "sns.lineplot(x = tstart.index, y = tstart.angleOfAttack, color = 'black', label = 'angleOfAttack', ax=axarr[2][1])\n",
        "\n",
        "sns.lineplot(x = tend.index, y = tend.surfaceWindDirection, color = 'blue', label = 'surfaceWindDirection', ax=axarr[0][2])\n",
        "sns.lineplot(x = tend.index, y = tend.surfaceWindSpeed, color = 'green', label = 'surfaceWindSpeed', ax=axarr[0][2])\n",
        "sns.lineplot(x = tend.index, y = tend.gpsAltitude, color = 'yellow', label = 'gpsAltitude', ax=axarr[1][2])\n",
        "sns.lineplot(x = tend.index, y = tend.groundSpeed, color = 'red', label = 'groundSpeed', ax=axarr[1][2])\n",
        "sns.lineplot(x = tend.index, y = tend.angleOfAttack, color = 'black', label = 'angleOfAttack', ax=axarr[2][2])\n",
        "\n",
        "for ax in axarr[:, 0]:\n",
        "    plt.setp(ax.get_xticklabels(), rotation=90)\n",
        "\n",
        "for ax in axarr.flat:\n",
        "    plt.sca(ax)\n",
        "    plt.xticks(rotation=90)\n",
        "\n",
        "f.suptitle(\"S-Turn on 10/20/2022\")\n",
        "plt.show()\n",
        "\n",
        "### label the start time of s-turn as 15:04:15\n",
        "### label the end time of s-turn as 15:13:50"
      ]
    },
    {
      "cell_type": "code",
      "execution_count": null,
      "id": "2dc11832",
      "metadata": {
        "id": "2dc11832"
      },
      "outputs": [],
      "source": [
        "## sTurn features: surfaceWindDirection, surfaceWindSpeed, gpsAltitude, groundSpeed, angleOfAttack\n",
        "\n",
        "ttotal = df_221215.between_time(start_time = '13:15:00', end_time = '13:50:00')\n",
        "tstart = df_221215.between_time(start_time = '13:27:00', end_time = '13:28:00')\n",
        "tend = df_221215.between_time(start_time = '13:38:00', end_time = '13:39:00')\n",
        "\n",
        "f, axarr = plt.subplots(3, 3, figsize=(10,10), sharex='col')\n",
        "\n",
        "sns.lineplot(x = ttotal.index, y = ttotal.surfaceWindDirection, color = 'blue', label = 'surfaceWindDirection', ax=axarr[0][0])\n",
        "sns.lineplot(x = ttotal.index, y = ttotal.surfaceWindSpeed, color = 'green', label = 'surfaceWindSpeed', ax=axarr[0][0])\n",
        "sns.lineplot(x = ttotal.index, y = ttotal.gpsAltitude, color = 'yellow', label = 'gpsAltitude', ax=axarr[1][0])\n",
        "sns.lineplot(x = ttotal.index, y = ttotal.groundSpeed, color = 'red', label = 'groundSpeed', ax=axarr[1][0])\n",
        "sns.lineplot(x = ttotal.index, y = ttotal.angleOfAttack, color = 'black', label = 'angleOfAttack', ax=axarr[2][0])\n",
        "\n",
        "sns.lineplot(x = tstart.index, y = tstart.surfaceWindDirection, color = 'blue', label = 'surfaceWindDirection', ax=axarr[0][1])\n",
        "sns.lineplot(x = tstart.index, y = tstart.surfaceWindSpeed, color = 'green', label = 'surfaceWindSpeed', ax=axarr[0][1])\n",
        "sns.lineplot(x = tstart.index, y = tstart.gpsAltitude, color = 'yellow', label = 'gpsAltitude', ax=axarr[1][1])\n",
        "sns.lineplot(x = tstart.index, y = tstart.groundSpeed, color = 'red', label = 'groundSpeed', ax=axarr[1][1])\n",
        "sns.lineplot(x = tstart.index, y = tstart.angleOfAttack, color = 'black', label = 'angleOfAttack', ax=axarr[2][1])\n",
        "\n",
        "sns.lineplot(x = tend.index, y = tend.surfaceWindDirection, color = 'blue', label = 'surfaceWindDirection', ax=axarr[0][2])\n",
        "sns.lineplot(x = tend.index, y = tend.surfaceWindSpeed, color = 'green', label = 'surfaceWindSpeed', ax=axarr[0][2])\n",
        "sns.lineplot(x = tend.index, y = tend.gpsAltitude, color = 'yellow', label = 'gpsAltitude', ax=axarr[1][2])\n",
        "sns.lineplot(x = tend.index, y = tend.groundSpeed, color = 'red', label = 'groundSpeed', ax=axarr[1][2])\n",
        "sns.lineplot(x = tend.index, y = tend.angleOfAttack, color = 'black', label = 'angleOfAttack', ax=axarr[2][2])\n",
        "\n",
        "for ax in axarr[:, 0]:\n",
        "    plt.setp(ax.get_xticklabels(), rotation=90)\n",
        "\n",
        "for ax in axarr.flat:\n",
        "    plt.sca(ax)\n",
        "    plt.xticks(rotation=90)\n",
        "\n",
        "f.suptitle(\"S-Turn on 12/15/2022\")\n",
        "plt.show()\n",
        "\n",
        "### label the start time of s-turn as 13:27:10\n",
        "### label the end time of s-turn as 13:38:30"
      ]
    },
    {
      "cell_type": "code",
      "execution_count": null,
      "id": "9aa30c88",
      "metadata": {
        "id": "9aa30c88"
      },
      "outputs": [],
      "source": [
        "## sTurn features: surfaceWindDirection, surfaceWindSpeed, gpsAltitude, groundSpeed, angleOfAttack\n",
        "\n",
        "ttotal = df_230216.between_time(start_time = '9:20:00', end_time = '9:35:00')\n",
        "tstart = df_230216.between_time(start_time = '9:24:00', end_time = '9:26:00')\n",
        "tend = df_230216.between_time(start_time = '9:29:00', end_time = '9:31:00')\n",
        "\n",
        "f, axarr = plt.subplots(3, 3, figsize=(10,10), sharex='col')\n",
        "\n",
        "sns.lineplot(x = ttotal.index, y = ttotal.surfaceWindDirection, color = 'blue', label = 'surfaceWindDirection', ax=axarr[0][0])\n",
        "sns.lineplot(x = ttotal.index, y = ttotal.surfaceWindSpeed, color = 'green', label = 'surfaceWindSpeed', ax=axarr[0][0])\n",
        "sns.lineplot(x = ttotal.index, y = ttotal.gpsAltitude, color = 'yellow', label = 'gpsAltitude', ax=axarr[1][0])\n",
        "sns.lineplot(x = ttotal.index, y = ttotal.groundSpeed, color = 'red', label = 'groundSpeed', ax=axarr[1][0])\n",
        "sns.lineplot(x = ttotal.index, y = ttotal.angleOfAttack, color = 'black', label = 'angleOfAttack', ax=axarr[2][0])\n",
        "\n",
        "sns.lineplot(x = tstart.index, y = tstart.surfaceWindDirection, color = 'blue', label = 'surfaceWindDirection', ax=axarr[0][1])\n",
        "sns.lineplot(x = tstart.index, y = tstart.surfaceWindSpeed, color = 'green', label = 'surfaceWindSpeed', ax=axarr[0][1])\n",
        "sns.lineplot(x = tstart.index, y = tstart.gpsAltitude, color = 'yellow', label = 'gpsAltitude', ax=axarr[1][1])\n",
        "sns.lineplot(x = tstart.index, y = tstart.groundSpeed, color = 'red', label = 'groundSpeed', ax=axarr[1][1])\n",
        "sns.lineplot(x = tstart.index, y = tstart.angleOfAttack, color = 'black', label = 'angleOfAttack', ax=axarr[2][1])\n",
        "\n",
        "sns.lineplot(x = tend.index, y = tend.surfaceWindDirection, color = 'blue', label = 'surfaceWindDirection', ax=axarr[0][2])\n",
        "sns.lineplot(x = tend.index, y = tend.surfaceWindSpeed, color = 'green', label = 'surfaceWindSpeed', ax=axarr[0][2])\n",
        "sns.lineplot(x = tend.index, y = tend.gpsAltitude, color = 'yellow', label = 'gpsAltitude', ax=axarr[1][2])\n",
        "sns.lineplot(x = tend.index, y = tend.groundSpeed, color = 'red', label = 'groundSpeed', ax=axarr[1][2])\n",
        "sns.lineplot(x = tend.index, y = tend.angleOfAttack, color = 'black', label = 'angleOfAttack', ax=axarr[2][2])\n",
        "\n",
        "for ax in axarr[:, 0]:\n",
        "    plt.setp(ax.get_xticklabels(), rotation=90)\n",
        "\n",
        "for ax in axarr.flat:\n",
        "    plt.sca(ax)\n",
        "    plt.xticks(rotation=90)\n",
        "\n",
        "f.suptitle(\"S-Turn on 02/06/2023\")\n",
        "plt.show()\n",
        "\n",
        "### label the start time of s-turn as 9:25:00\n",
        "### label the end time of s-turn as 9:30:00"
      ]
    },
    {
      "cell_type": "markdown",
      "id": "9a7b1a4f",
      "metadata": {
        "id": "9a7b1a4f"
      },
      "source": [
        "## Labelling quick-stop (manually)"
      ]
    },
    {
      "cell_type": "code",
      "execution_count": null,
      "id": "29ab3e4e",
      "metadata": {
        "id": "29ab3e4e"
      },
      "outputs": [],
      "source": [
        "# quick stop features: gpsAltitude, mainRotorRpm, groundSpeed, collectivePosition, antiTorquePedalPosition, pitch\n",
        "\n",
        "ttotal = df_221215.between_time(start_time = '13:50:00', end_time = '14:15:00')\n",
        "tstart = df_221215.between_time(start_time = '13:56:00', end_time = '13:58:00')\n",
        "tend = df_221215.between_time(start_time = '14:01:00', end_time = '14:02:00')\n",
        "\n",
        "f, axarr = plt.subplots(3, 3, figsize=(10, 10), sharex='col')\n",
        "plt.subplots_adjust(hspace=0.5)\n",
        "\n",
        "sns.lineplot(x = ttotal.index, y = ttotal.gpsAltitude, color = 'blue', label = 'gpsAltitude', ax=axarr[0][0])\n",
        "sns.lineplot(x = ttotal.index, y = ttotal.mainRotorRpm, color = 'green', label = 'mainRotorRpm', ax=axarr[1][0])\n",
        "sns.lineplot(x = ttotal.index, y = ttotal.groundSpeed, color = 'cyan', label = 'groundSpeed', ax=axarr[2][0])\n",
        "sns.lineplot(x = ttotal.index, y = ttotal.collectivePosition, color = 'red', label = 'collectivePosition', ax=axarr[2][0])\n",
        "sns.lineplot(x = ttotal.index, y = ttotal.antiTorquePedalPosition, color = 'black', label = 'antiTorquePedalPosition', ax=axarr[2][0])\n",
        "sns.lineplot(x = ttotal.index, y = ttotal.pitch, color = 'magenta', label = 'pitch', ax=axarr[1][0])\n",
        "\n",
        "sns.lineplot(x = tstart.index, y = tstart.gpsAltitude, color = 'blue', label = 'gpsAltitude', ax=axarr[0][1])\n",
        "sns.lineplot(x = tstart.index, y = tstart.mainRotorRpm, color = 'green', label = 'mainRotorRpm', ax=axarr[1][1])\n",
        "sns.lineplot(x = tstart.index, y = tstart.groundSpeed, color = 'cyan', label = 'groundSpeed', ax=axarr[2][1])\n",
        "sns.lineplot(x = tstart.index, y = tstart.collectivePosition, color = 'red', label = 'collectivePosition', ax=axarr[2][1])\n",
        "sns.lineplot(x = tstart.index, y = tstart.antiTorquePedalPosition, color = 'black', label = 'antiTorquePedalPosition', ax=axarr[2][1])\n",
        "sns.lineplot(x = tstart.index, y = tstart.pitch, color = 'magenta', label = 'pitch', ax=axarr[1][1])\n",
        "\n",
        "sns.lineplot(x = tend.index, y = tend.gpsAltitude, color = 'blue', label = 'gpsAltitude', ax=axarr[0][2])\n",
        "sns.lineplot(x = tend.index, y = tend.mainRotorRpm, color = 'green', label = 'mainRotorRpm', ax=axarr[1][2])\n",
        "sns.lineplot(x = tend.index, y = tend.groundSpeed, color = 'cyan', label = 'groundSpeed', ax=axarr[2][2])\n",
        "sns.lineplot(x = tend.index, y = tend.collectivePosition, color = 'red', label = 'collectivePosition', ax=axarr[2][2])\n",
        "sns.lineplot(x = tend.index, y = tend.antiTorquePedalPosition, color = 'black', label = 'antiTorquePedalPosition', ax=axarr[2][2])\n",
        "sns.lineplot(x = tend.index, y = tend.pitch, color = 'magenta', label = 'pitch', ax=axarr[1][2])\n",
        "\n",
        "for ax in axarr[:, 0]:\n",
        "    plt.setp(ax.get_xticklabels(), rotation=90)\n",
        "\n",
        "for ax in axarr.flat:\n",
        "    plt.sca(ax)\n",
        "    plt.xticks(rotation=90)\n",
        "\n",
        "f.suptitle(\"Quick Stop on 12/15/2022\")\n",
        "plt.show()\n",
        "\n",
        "\n",
        "### label the start time of quick-stop as 13:56:30\n",
        "### label the end time of quick-stop as 14:01:10"
      ]
    },
    {
      "cell_type": "code",
      "execution_count": null,
      "id": "b0c7abc7",
      "metadata": {
        "id": "b0c7abc7"
      },
      "outputs": [],
      "source": [
        "# quick stop features: gpsAltitude, mainRotorRpm, groundSpeed, collectivePosition, antiTorquePedalPosition, pitch\n",
        "\n",
        "ttotal = df_230216.between_time(start_time = '9:50:00', end_time = '10:30:00')\n",
        "tstart = df_230216.between_time(start_time = '10:07:00', end_time = '10:09:00')\n",
        "tend = df_230216.between_time(start_time = '10:09:00', end_time = '10:11:00')\n",
        "\n",
        "f, axarr = plt.subplots(3, 3, figsize=(10, 10), sharex='col')\n",
        "plt.subplots_adjust(hspace=0.5)\n",
        "\n",
        "sns.lineplot(x = ttotal.index, y = ttotal.gpsAltitude, color = 'blue', label = 'gpsAltitude', ax=axarr[0][0])\n",
        "sns.lineplot(x = ttotal.index, y = ttotal.mainRotorRpm, color = 'green', label = 'mainRotorRpm', ax=axarr[1][0])\n",
        "sns.lineplot(x = ttotal.index, y = ttotal.groundSpeed, color = 'cyan', label = 'groundSpeed', ax=axarr[2][0])\n",
        "sns.lineplot(x = ttotal.index, y = ttotal.collectivePosition, color = 'red', label = 'collectivePosition', ax=axarr[2][0])\n",
        "sns.lineplot(x = ttotal.index, y = ttotal.antiTorquePedalPosition, color = 'black', label = 'antiTorquePedalPosition', ax=axarr[2][0])\n",
        "sns.lineplot(x = ttotal.index, y = ttotal.pitch, color = 'magenta', label = 'pitch', ax=axarr[1][0])\n",
        "\n",
        "sns.lineplot(x = tstart.index, y = tstart.gpsAltitude, color = 'blue', label = 'gpsAltitude', ax=axarr[0][1])\n",
        "sns.lineplot(x = tstart.index, y = tstart.mainRotorRpm, color = 'green', label = 'mainRotorRpm', ax=axarr[1][1])\n",
        "sns.lineplot(x = tstart.index, y = tstart.groundSpeed, color = 'cyan', label = 'groundSpeed', ax=axarr[2][1])\n",
        "sns.lineplot(x = tstart.index, y = tstart.collectivePosition, color = 'red', label = 'collectivePosition', ax=axarr[2][1])\n",
        "sns.lineplot(x = tstart.index, y = tstart.antiTorquePedalPosition, color = 'black', label = 'antiTorquePedalPosition', ax=axarr[2][1])\n",
        "sns.lineplot(x = tstart.index, y = tstart.pitch, color = 'magenta', label = 'pitch', ax=axarr[1][1])\n",
        "\n",
        "sns.lineplot(x = tend.index, y = tend.gpsAltitude, color = 'blue', label = 'gpsAltitude', ax=axarr[0][2])\n",
        "sns.lineplot(x = tend.index, y = tend.mainRotorRpm, color = 'green', label = 'mainRotorRpm', ax=axarr[1][2])\n",
        "sns.lineplot(x = tend.index, y = tend.groundSpeed, color = 'cyan', label = 'groundSpeed', ax=axarr[2][2])\n",
        "sns.lineplot(x = tend.index, y = tend.collectivePosition, color = 'red', label = 'collectivePosition', ax=axarr[2][2])\n",
        "sns.lineplot(x = tend.index, y = tend.antiTorquePedalPosition, color = 'black', label = 'antiTorquePedalPosition', ax=axarr[2][2])\n",
        "sns.lineplot(x = tend.index, y = tend.pitch, color = 'magenta', label = 'pitch', ax=axarr[1][2])\n",
        "\n",
        "for ax in axarr[:, 0]:\n",
        "    plt.setp(ax.get_xticklabels(), rotation=90)\n",
        "\n",
        "for ax in axarr.flat:\n",
        "    plt.sca(ax)\n",
        "    plt.xticks(rotation=90)\n",
        "\n",
        "f.suptitle(\"Quick Stop on 02/06/2023\")\n",
        "plt.show()\n",
        "\n",
        "\n",
        "### label the start time of quick stop as\n",
        "### label the end time of quick stop as"
      ]
    },
    {
      "cell_type": "markdown",
      "id": "c866e18e",
      "metadata": {
        "id": "c866e18e"
      },
      "source": [
        "## Importing labeled data"
      ]
    },
    {
      "cell_type": "code",
      "execution_count": null,
      "id": "53adbc00",
      "metadata": {
        "id": "53adbc00"
      },
      "outputs": [],
      "source": [
        "df1 = pd.read_csv(\"SimData_df221006_label.csv\")\n",
        "df2 = pd.read_csv(\"SimData_df221020_label.csv\")\n",
        "df3 = pd.read_csv(\"SimData_df221215_label.csv\")\n",
        "df4 = pd.read_csv(\"SimData_df230216_label.csv\")"
      ]
    },
    {
      "cell_type": "markdown",
      "id": "46882dd8",
      "metadata": {
        "id": "46882dd8"
      },
      "source": [
        "## Combining dataset"
      ]
    },
    {
      "cell_type": "code",
      "execution_count": null,
      "id": "c48ef1a5",
      "metadata": {
        "id": "c48ef1a5"
      },
      "outputs": [],
      "source": [
        "print(df1.shape, df2.shape, df3.shape, df4.shape)"
      ]
    },
    {
      "cell_type": "code",
      "execution_count": null,
      "id": "799872ac",
      "metadata": {
        "id": "799872ac"
      },
      "outputs": [],
      "source": [
        "print(df1.seconds.min(), df1.seconds.max())"
      ]
    },
    {
      "cell_type": "code",
      "execution_count": null,
      "id": "4965e4f2",
      "metadata": {
        "id": "4965e4f2"
      },
      "outputs": [],
      "source": [
        "print(df2.seconds.min(), df2.seconds.max())"
      ]
    },
    {
      "cell_type": "code",
      "execution_count": null,
      "id": "5610f5e8",
      "metadata": {
        "id": "5610f5e8"
      },
      "outputs": [],
      "source": [
        "print(df3.seconds.min(), df3.seconds.max())"
      ]
    },
    {
      "cell_type": "code",
      "execution_count": null,
      "id": "4c489666",
      "metadata": {
        "id": "4c489666"
      },
      "outputs": [],
      "source": [
        "print(df4.seconds.min(), df4.seconds.max())"
      ]
    },
    {
      "cell_type": "code",
      "execution_count": null,
      "id": "71288c9e",
      "metadata": {
        "id": "71288c9e"
      },
      "outputs": [],
      "source": [
        "df = pd.concat([df1, df2], axis=0)\n",
        "df = pd.concat([df, df3], axis=0)\n",
        "df = pd.concat([df, df4], axis=0)\n",
        "\n",
        "df.head()"
      ]
    },
    {
      "cell_type": "markdown",
      "id": "b9094e7b",
      "metadata": {
        "id": "b9094e7b"
      },
      "source": [
        "## Taking care of missing data / null label"
      ]
    },
    {
      "cell_type": "code",
      "execution_count": null,
      "id": "03c4da12",
      "metadata": {
        "id": "03c4da12"
      },
      "outputs": [],
      "source": [
        "df.shape"
      ]
    },
    {
      "cell_type": "code",
      "execution_count": null,
      "id": "d9675f66",
      "metadata": {
        "id": "d9675f66"
      },
      "outputs": [],
      "source": [
        "df.columns[df.isnull().any()]"
      ]
    },
    {
      "cell_type": "code",
      "execution_count": null,
      "id": "a2d4a382",
      "metadata": {
        "id": "a2d4a382"
      },
      "outputs": [],
      "source": [
        "df['e1FuelFlowRate'].isnull().sum()"
      ]
    },
    {
      "cell_type": "code",
      "execution_count": null,
      "id": "958b1bb9",
      "metadata": {
        "id": "958b1bb9"
      },
      "outputs": [],
      "source": [
        "df['e2FuelFlowRate'].isnull().sum()"
      ]
    },
    {
      "cell_type": "code",
      "execution_count": null,
      "id": "a93c95a9",
      "metadata": {
        "id": "a93c95a9"
      },
      "outputs": [],
      "source": [
        "df['hasGeneratorFailureWarning'].isnull().sum()"
      ]
    },
    {
      "cell_type": "code",
      "execution_count": null,
      "id": "634d7118",
      "metadata": {
        "id": "634d7118"
      },
      "outputs": [],
      "source": [
        "df['e1FuelFlowRatePerMin'].isnull().sum()"
      ]
    },
    {
      "cell_type": "code",
      "execution_count": null,
      "id": "4951c3ca",
      "metadata": {
        "id": "4951c3ca"
      },
      "outputs": [],
      "source": [
        "df['e2FuelFlowRatePerMin'].isnull().sum()"
      ]
    },
    {
      "cell_type": "code",
      "execution_count": null,
      "id": "f88c8bb9",
      "metadata": {
        "id": "f88c8bb9"
      },
      "outputs": [],
      "source": [
        "# remove columns with high percentage of missing data\n",
        "to_drop = ['e1FuelFlowRate', 'e2FuelFlowRate', 'e1FuelFlowRatePerMin', 'e2FuelFlowRatePerMin']\n",
        "df = df.drop(to_drop, axis=1)\n",
        "df.shape"
      ]
    },
    {
      "cell_type": "code",
      "execution_count": null,
      "id": "c0505ff4",
      "metadata": {
        "id": "c0505ff4"
      },
      "outputs": [],
      "source": [
        "# fill columns with low percentage of missing data with median\n",
        "to_fill = df['hasGeneratorFailureWarning'].value_counts().index[0]\n",
        "df['hasGeneratorFailureWarning'] = df['hasGeneratorFailureWarning'].fillna(to_fill)"
      ]
    },
    {
      "cell_type": "code",
      "execution_count": null,
      "id": "be3b96c5",
      "metadata": {
        "id": "be3b96c5"
      },
      "outputs": [],
      "source": [
        "df['label'].isnull().sum()"
      ]
    },
    {
      "cell_type": "code",
      "execution_count": null,
      "id": "6aee1dd3",
      "metadata": {
        "id": "6aee1dd3"
      },
      "outputs": [],
      "source": [
        "df['label'] = df['label'].fillna('other')"
      ]
    },
    {
      "cell_type": "code",
      "execution_count": null,
      "id": "ef2124fe",
      "metadata": {
        "id": "ef2124fe",
        "scrolled": true
      },
      "outputs": [],
      "source": [
        "df['label'].value_counts()"
      ]
    },
    {
      "cell_type": "code",
      "execution_count": null,
      "id": "2364f4c6",
      "metadata": {
        "id": "2364f4c6"
      },
      "outputs": [],
      "source": [
        "df['label'] = df['label'].replace('s-turn', 'sTurn')\n",
        "df['label'] = df['label'].replace('quickstop', 'quickStop')\n",
        "df['label'] = df['label'].replace('qucikStop', 'quickStop')\n",
        "df['label'] = df['label'].replace('low recon', 'lowRecon')\n",
        "df['label'] = df['label'].replace('high recon', 'highRecon')\n",
        "df['label'].value_counts()"
      ]
    },
    {
      "cell_type": "code",
      "execution_count": null,
      "id": "e0ad6fa9",
      "metadata": {
        "id": "e0ad6fa9"
      },
      "outputs": [],
      "source": [
        "df.to_csv(\"SimData_all4_label.csv\", index=False)"
      ]
    },
    {
      "cell_type": "markdown",
      "id": "1a2251e8",
      "metadata": {
        "id": "1a2251e8"
      },
      "source": [
        "## Reducing dimension v1 -physics base"
      ]
    },
    {
      "cell_type": "code",
      "execution_count": null,
      "id": "446af800",
      "metadata": {
        "id": "446af800"
      },
      "outputs": [],
      "source": [
        "phy_param = ['timestamp', 'latitude', 'longitude', 'gpsAltitude', 'absoluteAltitude', 'trueHeading', 'pitch', 'roll', 'yaw', 'groundSpeed', 'trueAirspeed', 'climbOrDescentRate', 'pilotRadioAltitude', 'copilotRadioAltitude', 'groundTrack', 'rollRate', 'pitchRate', 'yawRate', 'turnRate to degPerSec', 'angleOfAttack', 'rollAcceleration', 'pitchAcceleration', 'yawAcceleration', 'normalAcceleration', 'lateralAcceleration', 'longitudinalAcceleration', 'collectivePosition','antiTorquePedalPosition', 'throttlePosition', 'hasParkingBrakeEngaged', 'hasLandingGearDown', 'hasRotorBrakeEngaged', 'mainRotorRpm', 'tailRotorRpm', 'mainRotorTorque', 'surfaceWindDirection', 'label']\n",
        "df = df[phy_param]\n",
        "df.shape"
      ]
    },
    {
      "cell_type": "code",
      "execution_count": null,
      "id": "601839bb",
      "metadata": {
        "id": "601839bb"
      },
      "outputs": [],
      "source": [
        "df.to_csv(\"SimData_all4_label_drPhy.csv\", index=False)"
      ]
    },
    {
      "cell_type": "markdown",
      "id": "38c3f691",
      "metadata": {
        "id": "38c3f691"
      },
      "source": [
        "## Reducing dimension v2 -PCA"
      ]
    },
    {
      "cell_type": "code",
      "execution_count": null,
      "id": "ab2eac69",
      "metadata": {
        "id": "ab2eac69"
      },
      "outputs": [],
      "source": [
        "# Importing the dataset\n",
        "df = pd.read_csv(\"SimData_all4_label.csv\")"
      ]
    },
    {
      "cell_type": "code",
      "execution_count": null,
      "id": "9455a66a",
      "metadata": {
        "id": "9455a66a"
      },
      "outputs": [],
      "source": [
        "df.head()"
      ]
    },
    {
      "cell_type": "code",
      "execution_count": null,
      "id": "6908259a",
      "metadata": {
        "id": "6908259a"
      },
      "outputs": [],
      "source": [
        "df.insert(0, 'seconds', df.pop('seconds'))\n",
        "\n",
        "# remove redundant time columns\n",
        "to_drop = ['_id', 'date', 'time', 'gpsDateTime', 'timestamp']\n",
        "df = df.drop(to_drop, axis=1)"
      ]
    },
    {
      "cell_type": "code",
      "execution_count": null,
      "id": "f6d256b3",
      "metadata": {
        "id": "f6d256b3"
      },
      "outputs": [],
      "source": [
        "df.dtypes.value_counts()"
      ]
    },
    {
      "cell_type": "code",
      "execution_count": null,
      "id": "b91dc438",
      "metadata": {
        "id": "b91dc438"
      },
      "outputs": [],
      "source": [
        "df.select_dtypes(include=object)"
      ]
    },
    {
      "cell_type": "code",
      "execution_count": null,
      "id": "29912971",
      "metadata": {
        "id": "29912971"
      },
      "outputs": [],
      "source": [
        "df['autoPilotMode'].value_counts()"
      ]
    },
    {
      "cell_type": "code",
      "execution_count": null,
      "id": "f0e27cfc",
      "metadata": {
        "id": "f0e27cfc"
      },
      "outputs": [],
      "source": [
        "# remove unrelated object columns\n",
        "\n",
        "to_drop = ['autoPilotMode']\n",
        "df = df.drop(to_drop, axis=1)"
      ]
    },
    {
      "cell_type": "code",
      "execution_count": null,
      "id": "cce894fb",
      "metadata": {
        "id": "cce894fb"
      },
      "outputs": [],
      "source": [
        "df.shape"
      ]
    },
    {
      "cell_type": "code",
      "execution_count": null,
      "id": "DSM4RVUUaqhr",
      "metadata": {
        "id": "DSM4RVUUaqhr"
      },
      "outputs": [],
      "source": [
        "### insert PCA component selection"
      ]
    },
    {
      "cell_type": "code",
      "execution_count": null,
      "id": "c24b90ac",
      "metadata": {
        "id": "c24b90ac"
      },
      "outputs": [],
      "source": [
        "X = df.iloc[:, :-1].values\n",
        "y = df.iloc[:, -1].values"
      ]
    },
    {
      "cell_type": "code",
      "execution_count": null,
      "id": "9a2663f7",
      "metadata": {
        "id": "9a2663f7"
      },
      "outputs": [],
      "source": [
        "# Splitting the dataset into the Training set and Test set\n",
        "from sklearn.model_selection import train_test_split\n",
        "X_train, X_test, y_train, y_test = train_test_split(X, y, test_size = 0.2, random_state = 0)"
      ]
    },
    {
      "cell_type": "code",
      "execution_count": null,
      "id": "7ZY15e8iaqlI",
      "metadata": {
        "id": "7ZY15e8iaqlI"
      },
      "outputs": [],
      "source": [
        "# Feature Scaling\n",
        "from sklearn.preprocessing import StandardScaler\n",
        "sc = StandardScaler()\n",
        "X_train = sc.fit_transform(X_train)\n",
        "X_test = sc.transform(X_test)"
      ]
    },
    {
      "cell_type": "code",
      "execution_count": null,
      "id": "MGOUYBBnaqol",
      "metadata": {
        "id": "MGOUYBBnaqol"
      },
      "outputs": [],
      "source": [
        "# Applying PCA\n",
        "from sklearn.decomposition import PCA\n",
        "pca = PCA(n_components = 100)    #100\n",
        "X_train = pca.fit_transform(X_train)\n",
        "X_test = pca.transform(X_test)"
      ]
    },
    {
      "cell_type": "code",
      "execution_count": null,
      "id": "Xcp_YBF4aqrZ",
      "metadata": {
        "id": "Xcp_YBF4aqrZ"
      },
      "outputs": [],
      "source": [
        "# Training the Logistic Regression model on the Training set\n",
        "from sklearn.linear_model import LogisticRegression\n",
        "classifier = LogisticRegression(random_state = 0)\n",
        "classifier.fit(X_train, y_train)"
      ]
    },
    {
      "cell_type": "code",
      "execution_count": null,
      "id": "pEXM0-DmaquG",
      "metadata": {
        "id": "pEXM0-DmaquG"
      },
      "outputs": [],
      "source": [
        "# Making the Confusion Matrix\n",
        "from sklearn.metrics import confusion_matrix, accuracy_score\n",
        "y_pred = classifier.predict(X_test)\n",
        "cm = confusion_matrix(y_test, y_pred)\n",
        "print(cm)\n",
        "accuracy_score(y_test, y_pred)"
      ]
    },
    {
      "cell_type": "code",
      "execution_count": null,
      "id": "4RDOI4lObStT",
      "metadata": {
        "id": "4RDOI4lObStT"
      },
      "outputs": [],
      "source": [
        "PC_values = np.arange(pca.n_components_) + 1\n",
        "plt.plot(PC_values, pca.explained_variance_ratio_, 'o-', linewidth=2, color='blue')\n",
        "plt.title('Scree Plot')\n",
        "plt.xlabel('Principal Component')\n",
        "plt.ylabel('Variance Explained')\n",
        "plt.xticks(np.arange(0, 100, step=5))\n",
        "plt.show()\n",
        "\n",
        "### choose 35/10 components"
      ]
    },
    {
      "cell_type": "markdown",
      "id": "f292be53",
      "metadata": {
        "id": "f292be53"
      },
      "source": [
        "### Applying PCA to the entire data with the determined n-components"
      ]
    },
    {
      "cell_type": "code",
      "execution_count": null,
      "id": "y0p9OhnjbS1E",
      "metadata": {
        "id": "y0p9OhnjbS1E"
      },
      "outputs": [],
      "source": [
        "X = df.iloc[:, :-1].values\n",
        "y = df.iloc[:, -1].values"
      ]
    },
    {
      "cell_type": "code",
      "execution_count": null,
      "id": "9st4bBh7bS3u",
      "metadata": {
        "id": "9st4bBh7bS3u"
      },
      "outputs": [],
      "source": [
        "## Feature Scaling\n",
        "from sklearn.preprocessing import StandardScaler\n",
        "sc = StandardScaler()\n",
        "X = sc.fit_transform(X)"
      ]
    },
    {
      "cell_type": "code",
      "execution_count": null,
      "id": "9z4iFb2AbS9s",
      "metadata": {
        "id": "9z4iFb2AbS9s"
      },
      "outputs": [],
      "source": [
        "## Applying PCA with 35 components\n",
        "from sklearn.decomposition import PCA\n",
        "pca_35 = PCA(n_components = 35)   #35\n",
        "X_35 = pca_35.fit_transform(X)"
      ]
    },
    {
      "cell_type": "code",
      "execution_count": null,
      "id": "Y8roMQz0bTCf",
      "metadata": {
        "id": "Y8roMQz0bTCf"
      },
      "outputs": [],
      "source": [
        "## convert to dataframe\n",
        "\n",
        "X_35 = pd.DataFrame(X_35)\n",
        "new_cols = {}\n",
        "for i in range(35):\n",
        "    if i == 0:\n",
        "        new_cols[i] = 'time'\n",
        "    else:\n",
        "        new_cols[i] = f'V{i}'\n",
        "X_35 = X_35.rename(columns=new_cols)\n",
        "\n",
        "y = pd.DataFrame(y, columns=['label'])"
      ]
    },
    {
      "cell_type": "code",
      "execution_count": null,
      "id": "7uOZ-dsJaqxA",
      "metadata": {
        "id": "7uOZ-dsJaqxA"
      },
      "outputs": [],
      "source": [
        "df_PCA_35 = pd.concat([X_35, y], axis=1)"
      ]
    },
    {
      "cell_type": "code",
      "execution_count": null,
      "id": "ROjUtWfuaqzr",
      "metadata": {
        "id": "ROjUtWfuaqzr"
      },
      "outputs": [],
      "source": [
        "df_PCA_35.head()"
      ]
    },
    {
      "cell_type": "code",
      "execution_count": null,
      "id": "mKpx_462aq2l",
      "metadata": {
        "id": "mKpx_462aq2l"
      },
      "outputs": [],
      "source": [
        "df_PCA_35.to_csv(\"SimData_all4_label_drPCA35.csv\", index=False)"
      ]
    },
    {
      "cell_type": "code",
      "execution_count": null,
      "id": "6vlY2an3aq8O",
      "metadata": {
        "id": "6vlY2an3aq8O"
      },
      "outputs": [],
      "source": [
        "## Applying PCA with 15 components\n",
        "from sklearn.decomposition import PCA\n",
        "pca_15 = PCA(n_components = 15)\n",
        "X_15 = pca_15.fit_transform(X)"
      ]
    },
    {
      "cell_type": "code",
      "execution_count": null,
      "id": "SPZLM8tjaq-8",
      "metadata": {
        "id": "SPZLM8tjaq-8"
      },
      "outputs": [],
      "source": [
        "## convert to dataframe\n",
        "\n",
        "X_15 = pd.DataFrame(X_15)\n",
        "new_cols = {}\n",
        "for i in range(15):\n",
        "    if i == 0:\n",
        "        new_cols[i] = 'time'\n",
        "    else:\n",
        "        new_cols[i] = f'V{i}'\n",
        "X_15 = X_15.rename(columns=new_cols)\n",
        "\n",
        "y = pd.DataFrame(y, columns=['label'])"
      ]
    },
    {
      "cell_type": "code",
      "execution_count": null,
      "id": "6ac08071",
      "metadata": {
        "id": "6ac08071"
      },
      "outputs": [],
      "source": [
        "df_PCA_15 = pd.concat([X_15, y], axis=1)"
      ]
    },
    {
      "cell_type": "code",
      "execution_count": null,
      "id": "c42ceec5",
      "metadata": {
        "id": "c42ceec5"
      },
      "outputs": [],
      "source": [
        "df_PCA_15.head()"
      ]
    },
    {
      "cell_type": "code",
      "execution_count": null,
      "id": "9980647e",
      "metadata": {
        "id": "9980647e"
      },
      "outputs": [],
      "source": [
        "df_PCA_15.to_csv(\"SimData_all4_label_drPCA15.csv\", index=False)"
      ]
    },
    {
      "cell_type": "markdown",
      "id": "606fe382",
      "metadata": {
        "id": "606fe382"
      },
      "source": [
        "## Auto Encoders"
      ]
    },
    {
      "cell_type": "code",
      "execution_count": null,
      "id": "aqhgv3VLFf8e",
      "metadata": {
        "id": "aqhgv3VLFf8e"
      },
      "outputs": [],
      "source": [
        "#T-SNE plot code for visualizing high dimensional data (currently unused)\n",
        "\n",
        "def tsne_plot(x1, y1, name=\"graph.png\"):\n",
        "    tsne = TSNE(n_components=2, random_state=0)\n",
        "    X_t = tsne.fit_transform(x1)\n",
        "\n",
        "    plt.figure(figsize=(12, 8))\n",
        "    plt.scatter(X_t[np.where(y1 == 0), 0], X_t[np.where(y1 == 0), 1], marker='o', color='g', linewidth=1, alpha=0.8, label='other')\n",
        "    plt.scatter(X_t[np.where(y1 == 1), 0], X_t[np.where(y1 == 1), 1], marker='o', color='r', linewidth=1, alpha=0.8, label='sTurn')\n",
        "    plt.scatter(X_t[np.where(y1 == 2), 0], X_t[np.where(y1 == 2), 1], marker='o', color='b', linewidth=1, alpha=0.8, label='quickStop')\n",
        "    plt.scatter(X_t[np.where(y1 == 3), 0], X_t[np.where(y1 == 3), 1], marker='o', color='c', linewidth=1, alpha=0.8, label='lowRecon')\n",
        "    plt.scatter(X_t[np.where(y1 == 4), 0], X_t[np.where(y1 == 4), 1], marker='o', color='m', linewidth=1, alpha=0.8, label='highRecon')\n",
        "\n",
        "    plt.legend(loc='best');\n",
        "    #plt.savefig(name);\n",
        "    plt.show();"
      ]
    },
    {
      "cell_type": "code",
      "execution_count": null,
      "id": "KCZ5ntwAjkY3",
      "metadata": {
        "id": "KCZ5ntwAjkY3"
      },
      "outputs": [],
      "source": [
        "df15 = pd.read_csv('/content/drive/MyDrive/daen690_datapirates/SimData_all4_label_drPCA15.csv')\n",
        "df35 = pd.read_csv('/content/drive/MyDrive/daen690_datapirates/SimData_all4_label_drPCA35.csv')\n",
        "# data = pd.read_csv('SimData_all4_label_drPCA15.csv.csv')\n",
        "#df15 = pd.read_csv('SimData_all4_label_drPCA15.csv')\n",
        "#df35 = pd.read_csv('SimData_all4_label_drPCA35.csv')"
      ]
    },
    {
      "cell_type": "code",
      "execution_count": null,
      "id": "33c7094d",
      "metadata": {
        "id": "33c7094d"
      },
      "outputs": [],
      "source": [
        "data = df15"
      ]
    },
    {
      "cell_type": "code",
      "source": [
        "data.head()"
      ],
      "metadata": {
        "id": "YRT-s4BSbS_V"
      },
      "id": "YRT-s4BSbS_V",
      "execution_count": null,
      "outputs": []
    },
    {
      "cell_type": "code",
      "execution_count": null,
      "id": "PoUtTQXEjkh-",
      "metadata": {
        "id": "PoUtTQXEjkh-"
      },
      "outputs": [],
      "source": [
        "data.dtypes"
      ]
    },
    {
      "cell_type": "code",
      "source": [],
      "metadata": {
        "id": "3-E7Q0RAgNIh"
      },
      "id": "3-E7Q0RAgNIh",
      "execution_count": null,
      "outputs": []
    },
    {
      "cell_type": "code",
      "source": [
        "vc = data['label'].value_counts().to_frame().reset_index()\n",
        "vc['percent'] = vc[\"label\"].apply(lambda x : round(100*float(x) / len(data), 2))\n",
        "vc = vc.rename(columns = {\"index\" : \"Target\", \"Class\" : \"Count\"})\n",
        "vc"
      ],
      "metadata": {
        "id": "5MOEzGJVeRqx"
      },
      "id": "5MOEzGJVeRqx",
      "execution_count": null,
      "outputs": []
    },
    {
      "cell_type": "code",
      "execution_count": null,
      "id": "61KFz61gjkn2",
      "metadata": {
        "id": "61KFz61gjkn2"
      },
      "outputs": [],
      "source": [
        "data.label.unique()\n",
        "lab = []\n",
        "for i in data.label:\n",
        "    if i == 'other':\n",
        "        lab.append(0)\n",
        "    elif i == 'sTurn':\n",
        "        lab.append(1)\n",
        "    elif i == 'quickStop':\n",
        "        lab.append(2)\n",
        "    elif i == 'lowRecon':\n",
        "        lab.append(3)\n",
        "    elif i == 'highRecon':\n",
        "        lab.append(4)\n",
        "\n",
        "\n",
        "data.label = lab"
      ]
    },
    {
      "cell_type": "code",
      "execution_count": null,
      "id": "kNXUex0KjksO",
      "metadata": {
        "id": "kNXUex0KjksO"
      },
      "outputs": [],
      "source": [
        "data"
      ]
    },
    {
      "cell_type": "code",
      "execution_count": null,
      "id": "2H3sshNRjku6",
      "metadata": {
        "id": "2H3sshNRjku6"
      },
      "outputs": [],
      "source": [
        "X = data.drop(['label'], axis = 1).values\n",
        "Y = data[\"label\"].values"
      ]
    },
    {
      "cell_type": "code",
      "execution_count": null,
      "id": "mF3xvMifFQA8",
      "metadata": {
        "id": "mF3xvMifFQA8"
      },
      "outputs": [],
      "source": [
        "# tsne_plot(X, Y, \"original.png\")"
      ]
    },
    {
      "cell_type": "code",
      "execution_count": null,
      "id": "xF483F1wjkx-",
      "metadata": {
        "id": "xF483F1wjkx-"
      },
      "outputs": [],
      "source": [
        "## input layer\n",
        "input_layer = Input(shape=(X.shape[1],))\n",
        "\n",
        "## encoding part\n",
        "encoded = Dense(100, activation='tanh', activity_regularizer=regularizers.l1(10e-5))(input_layer)\n",
        "encoded = Dense(50, activation='relu')(encoded)\n",
        "\n",
        "## decoding part\n",
        "decoded = Dense(50, activation='tanh')(encoded)\n",
        "decoded = Dense(100, activation='tanh')(decoded)\n",
        "\n",
        "## output layer\n",
        "output_layer = Dense(X.shape[1], activation='relu')(decoded)"
      ]
    },
    {
      "cell_type": "code",
      "execution_count": null,
      "id": "Mt03cdUSkltQ",
      "metadata": {
        "id": "Mt03cdUSkltQ"
      },
      "outputs": [],
      "source": [
        "autoencoder = Model(input_layer, output_layer)\n",
        "autoencoder.compile(optimizer=\"adadelta\", loss=\"mse\")"
      ]
    },
    {
      "cell_type": "code",
      "source": [
        "data.head()"
      ],
      "metadata": {
        "id": "Km1W2mB3NvZY"
      },
      "id": "Km1W2mB3NvZY",
      "execution_count": null,
      "outputs": []
    },
    {
      "cell_type": "code",
      "execution_count": null,
      "id": "LxdZDTV3klvm",
      "metadata": {
        "id": "LxdZDTV3klvm"
      },
      "outputs": [],
      "source": [
        "x = data.drop('label', axis = 1)\n",
        "y = data['label']\n",
        "\n",
        "x_scale = preprocessing.MinMaxScaler().fit_transform(x.values)\n",
        "x_norm, x_st, x_qs, x_lr, x_hr = x_scale[y == 0], x_scale[y == 1], x_scale[y == 2], x_scale[y == 3], x_scale[y == 4]"
      ]
    },
    {
      "cell_type": "code",
      "source": [
        "index = np.random.choice(len(x_norm), size = 5000) # size=5000, LogisticRegression_accuracy=88.42%\n",
        "# index = np.random.choice(len(x_norm), size = 430000) # size=430000, LogisticRegression_accuracy=79.68%"
      ],
      "metadata": {
        "id": "R16idw2sfSkN"
      },
      "id": "R16idw2sfSkN",
      "execution_count": null,
      "outputs": []
    },
    {
      "cell_type": "code",
      "source": [
        "x_norm_train = x_norm[index]"
      ],
      "metadata": {
        "id": "z98vlGNUhGsW"
      },
      "id": "z98vlGNUhGsW",
      "execution_count": null,
      "outputs": []
    },
    {
      "cell_type": "code",
      "execution_count": null,
      "id": "_ytIIsa7lgz-",
      "metadata": {
        "id": "_ytIIsa7lgz-"
      },
      "outputs": [],
      "source": [
        "autoencoder.fit(x_norm_train, x_norm_train,\n",
        "                batch_size = 256, epochs = 90,\n",
        "                shuffle = True, validation_split = 0.20);"
      ]
    },
    {
      "cell_type": "code",
      "execution_count": null,
      "id": "oLis6_Vblg2k",
      "metadata": {
        "id": "oLis6_Vblg2k"
      },
      "outputs": [],
      "source": [
        "hidden_representation = Sequential()\n",
        "hidden_representation.add(autoencoder.layers[0])\n",
        "hidden_representation.add(autoencoder.layers[1])\n",
        "hidden_representation.add(autoencoder.layers[2])"
      ]
    },
    {
      "cell_type": "code",
      "execution_count": null,
      "id": "ZWJ567ZHlg4l",
      "metadata": {
        "id": "ZWJ567ZHlg4l"
      },
      "outputs": [],
      "source": [
        "norm_hid_rep = hidden_representation.predict(x_norm[~index])\n",
        "st_hid_rep = hidden_representation.predict(x_st)\n",
        "qs_hid_rep = hidden_representation.predict(x_qs)\n",
        "lr_hid_rep = hidden_representation.predict(x_lr)\n",
        "hr_hid_rep = hidden_representation.predict(x_hr)"
      ]
    },
    {
      "cell_type": "code",
      "execution_count": null,
      "id": "9_4Ehb5Njk1S",
      "metadata": {
        "id": "9_4Ehb5Njk1S"
      },
      "outputs": [],
      "source": [
        "#This takes the hidden weights and applies to our testing data to attempt to classify\n",
        "\n",
        "rep_x = np.append(norm_hid_rep,qs_hid_rep, axis = 0)\n",
        "rep_x = np.append(rep_x, st_hid_rep, axis = 0)\n",
        "rep_x = np.append(rep_x, lr_hid_rep, axis = 0)\n",
        "rep_x = np.append(rep_x, hr_hid_rep, axis = 0)\n",
        "y_n = np.zeros(norm_hid_rep.shape[0])\n",
        "y_st = np.ones(st_hid_rep.shape[0])\n",
        "y_qs = np.full(qs_hid_rep.shape[0],2)\n",
        "y_lr = np.full(lr_hid_rep.shape[0],3)\n",
        "y_hr = np.full(hr_hid_rep.shape[0],4)\n",
        "\n",
        "\n",
        "\n",
        "rep_y = np.append(y_n,y_st, axis = 0)\n",
        "rep_y = np.append(rep_y,y_qs, axis = 0)\n",
        "rep_y = np.append(rep_y,y_lr, axis = 0)\n",
        "rep_y = np.append(rep_y,y_hr,axis = 0)"
      ]
    },
    {
      "cell_type": "code",
      "execution_count": null,
      "id": "3a4488c2",
      "metadata": {
        "id": "3a4488c2"
      },
      "outputs": [],
      "source": [
        "rep_y.shape"
      ]
    },
    {
      "cell_type": "markdown",
      "source": [
        "## Classification"
      ],
      "metadata": {
        "id": "nGL2uzwkv_ip"
      },
      "id": "nGL2uzwkv_ip"
    },
    {
      "cell_type": "code",
      "execution_count": null,
      "id": "jx4BLjfDllev",
      "metadata": {
        "id": "jx4BLjfDllev"
      },
      "outputs": [],
      "source": [
        "# LogisticRegression\n",
        "train_x, val_x, train_y, val_y = train_test_split(rep_x, rep_y, test_size=0.25)\n",
        "clf = LogisticRegression(solver=\"lbfgs\").fit(train_x, train_y)\n",
        "pred_y = clf.predict(val_x);\n",
        "\n",
        "print (\"\")\n",
        "print (\"Classification Report: \")\n",
        "print (classification_report(val_y, pred_y))\n",
        "\n",
        "print (\"\")\n",
        "print (\"Accuracy Score: \", accuracy_score(val_y, pred_y))"
      ]
    },
    {
      "cell_type": "code",
      "execution_count": null,
      "id": "W-2-5H5yaeBZ",
      "metadata": {
        "id": "W-2-5H5yaeBZ"
      },
      "outputs": [],
      "source": [
        "# Random Forest\n",
        "from sklearn.ensemble import RandomForestClassifier\n",
        "from sklearn.model_selection import train_test_split\n",
        "from sklearn.model_selection import cross_val_score\n",
        "\n",
        "train_x, val_x, train_y, val_y = train_test_split(rep_x, rep_y, test_size=0.25)\n",
        "rf =RandomForestClassifier(n_estimators=10)\n",
        "rf.fit(train_x, train_y)\n",
        "pred_y = rf.predict(val_x);\n",
        "\n",
        "print (\"\")\n",
        "print (\"Classification Report: \")\n",
        "print (classification_report(val_y, pred_y))\n",
        "\n",
        "print (\"\")\n",
        "print (\"Accuracy Score: \", accuracy_score(val_y, pred_y))"
      ]
    },
    {
      "cell_type": "code",
      "source": [
        "# KNN\n",
        "from sklearn.neighbors import KNeighborsClassifier\n",
        "from sklearn.model_selection import cross_val_score\n",
        "import numpy as np\n",
        "\n",
        "train_x, val_x, train_y, val_y = train_test_split(rep_x, rep_y, test_size=0.25)\n",
        "knn = KNeighborsClassifier(n_neighbors = 10)\n",
        "knn.fit(train_x, train_y)\n",
        "pred_y = rf.predict(val_x);\n",
        "\n",
        "print (\"\")\n",
        "print (\"Classification Report: \")\n",
        "print (classification_report(val_y, pred_y))\n",
        "\n",
        "print (\"\")\n",
        "print (\"Accuracy Score: \", accuracy_score(val_y, pred_y))"
      ],
      "metadata": {
        "id": "d_OrDhIUow8L"
      },
      "id": "d_OrDhIUow8L",
      "execution_count": null,
      "outputs": []
    },
    {
      "cell_type": "code",
      "execution_count": null,
      "id": "HOY-TUKTaeEn",
      "metadata": {
        "id": "HOY-TUKTaeEn"
      },
      "outputs": [],
      "source": [
        "# SVM\n",
        "from sklearn import svm\n",
        "train_x, val_x, train_y, val_y = train_test_split(rep_x, rep_y, test_size=0.25)\n",
        "clf = svm.SVC(kernel='linear')\n",
        "clf.fit(train_x, train_y)\n",
        "pred_y = clf.predict(val_x);\n",
        "\n",
        "print (\"\")\n",
        "print (\"Classification Report: \")\n",
        "print (classification_report(val_y, pred_y))\n",
        "\n",
        "print (\"\")\n",
        "print (\"Accuracy Score: \", accuracy_score(val_y, pred_y))"
      ]
    },
    {
      "cell_type": "code",
      "source": [
        "# Naive Bayes\n",
        "from sklearn.naive_bayes import GaussianNB\n",
        "train_x, val_x, train_y, val_y = train_test_split(rep_x, rep_y, test_size=0.25)\n",
        "gnb = GaussianNB()\n",
        "gnb.fit(train_x, train_y)\n",
        "pred_y = clf.predict(val_x);\n",
        "\n",
        "print (\"\")\n",
        "print (\"Classification Report: \")\n",
        "print (classification_report(val_y, pred_y))\n",
        "\n",
        "print (\"\")\n",
        "print (\"Accuracy Score: \", accuracy_score(val_y, pred_y))"
      ],
      "metadata": {
        "id": "ncRXCOcapT7D"
      },
      "id": "ncRXCOcapT7D",
      "execution_count": null,
      "outputs": []
    },
    {
      "cell_type": "markdown",
      "source": [
        "## Testing the classification w/o autoencoder"
      ],
      "metadata": {
        "id": "Duw8nKcx33CZ"
      },
      "id": "Duw8nKcx33CZ"
    },
    {
      "cell_type": "code",
      "execution_count": null,
      "id": "6ad8e8d3",
      "metadata": {
        "id": "6ad8e8d3"
      },
      "outputs": [],
      "source": [
        "# LogisticRegression\n",
        "train_x, val_x, train_y, val_y = train_test_split(X, Y, test_size=0.25)\n",
        "clf = LogisticRegression(solver=\"lbfgs\").fit(train_x, train_y)\n",
        "pred_y = clf.predict(val_x);\n",
        "\n",
        "print (\"\")\n",
        "print (\"Classification Report: \")\n",
        "print (classification_report(val_y, pred_y))\n",
        "\n",
        "print (\"\")\n",
        "print (\"Accuracy Score: \", accuracy_score(val_y, pred_y))"
      ]
    },
    {
      "cell_type": "code",
      "source": [
        "# Random Forest\n",
        "from sklearn.ensemble import RandomForestClassifier\n",
        "from sklearn.model_selection import train_test_split\n",
        "from sklearn.model_selection import cross_val_score\n",
        "\n",
        "train_x, val_x, train_y, val_y = train_test_split(X, Y, test_size=0.25)\n",
        "rf =RandomForestClassifier(n_estimators=10)\n",
        "rf.fit(train_x, train_y)\n",
        "pred_y = rf.predict(val_x);\n",
        "\n",
        "print (\"\")\n",
        "print (\"Classification Report: \")\n",
        "print (classification_report(val_y, pred_y))\n",
        "\n",
        "print (\"\")\n",
        "print (\"Accuracy Score: \", accuracy_score(val_y, pred_y))"
      ],
      "metadata": {
        "id": "PzqHZ6QD3rsQ"
      },
      "id": "PzqHZ6QD3rsQ",
      "execution_count": null,
      "outputs": []
    },
    {
      "cell_type": "code",
      "source": [
        "# KNN\n",
        "from sklearn.neighbors import KNeighborsClassifier\n",
        "from sklearn.model_selection import cross_val_score\n",
        "import numpy as np\n",
        "\n",
        "train_x, val_x, train_y, val_y = train_test_split(X, Y, test_size=0.25)\n",
        "knn = KNeighborsClassifier(n_neighbors = 10)\n",
        "knn.fit(train_x, train_y)\n",
        "pred_y = rf.predict(val_x);\n",
        "\n",
        "print (\"\")\n",
        "print (\"Classification Report: \")\n",
        "print (classification_report(val_y, pred_y))\n",
        "\n",
        "print (\"\")\n",
        "print (\"Accuracy Score: \", accuracy_score(val_y, pred_y))"
      ],
      "metadata": {
        "id": "wct09TvX4f7h"
      },
      "id": "wct09TvX4f7h",
      "execution_count": null,
      "outputs": []
    },
    {
      "cell_type": "code",
      "source": [
        "# SVM\n",
        "from sklearn import svm\n",
        "train_x, val_x, train_y, val_y = train_test_split(X, Y, test_size=0.25)\n",
        "clf = svm.SVC(kernel='linear')\n",
        "clf.fit(train_x, train_y)\n",
        "pred_y = clf.predict(val_x);\n",
        "\n",
        "print (\"\")\n",
        "print (\"Classification Report: \")\n",
        "print (classification_report(val_y, pred_y))\n",
        "\n",
        "print (\"\")\n",
        "print (\"Accuracy Score: \", accuracy_score(val_y, pred_y))"
      ],
      "metadata": {
        "id": "P4n95PqZ4gZ_"
      },
      "id": "P4n95PqZ4gZ_",
      "execution_count": null,
      "outputs": []
    },
    {
      "cell_type": "code",
      "source": [
        "# Naive Bayes\n",
        "from sklearn.naive_bayes import GaussianNB\n",
        "train_x, val_x, train_y, val_y = train_test_split(X, Y, test_size=0.25)\n",
        "gnb = GaussianNB()\n",
        "gnb.fit(train_x, train_y)\n",
        "pred_y = gnb.predict(val_x);\n",
        "\n",
        "print (\"\")\n",
        "print (\"Classification Report: \")\n",
        "print (classification_report(val_y, pred_y))\n",
        "\n",
        "print (\"\")\n",
        "print (\"Accuracy Score: \", accuracy_score(val_y, pred_y))"
      ],
      "metadata": {
        "id": "PfYsu20Q4yT4"
      },
      "id": "PfYsu20Q4yT4",
      "execution_count": null,
      "outputs": []
    },
    {
      "cell_type": "code",
      "source": [
        "val_y.shape"
      ],
      "metadata": {
        "id": "7AER9RqEc32R"
      },
      "id": "7AER9RqEc32R",
      "execution_count": null,
      "outputs": []
    },
    {
      "cell_type": "code",
      "source": [],
      "metadata": {
        "id": "thfd3HDRc3-x"
      },
      "id": "thfd3HDRc3-x",
      "execution_count": null,
      "outputs": []
    },
    {
      "cell_type": "markdown",
      "source": [
        "## Testing physics dataset w/o autoencoder"
      ],
      "metadata": {
        "id": "Wz4jSxS9dW66"
      },
      "id": "Wz4jSxS9dW66"
    },
    {
      "cell_type": "code",
      "source": [
        "dfphy = pd.read_csv('SimData_all4_label_drPhy.csv')"
      ],
      "metadata": {
        "id": "s3ODb-LC5O9H"
      },
      "id": "s3ODb-LC5O9H",
      "execution_count": null,
      "outputs": []
    },
    {
      "cell_type": "code",
      "source": [
        "# Feature Scaling for dfphy only, rerun with each new algorithm\n",
        "from sklearn.preprocessing import StandardScaler\n",
        "train_x, val_x, train_y, val_y = train_test_split(X, Y, test_size=0.25)\n",
        "sc = StandardScaler()\n",
        "train_x = sc.fit_transform(train_x)\n",
        "val_x = sc.transform(val_x)"
      ],
      "metadata": {
        "id": "a6eBQVy1c4Bc"
      },
      "id": "a6eBQVy1c4Bc",
      "execution_count": null,
      "outputs": []
    },
    {
      "cell_type": "code",
      "source": [
        "# LogisticRegression\n",
        "# train_x, val_x, train_y, val_y = train_test_split(X, Y, test_size=0.25)\n",
        "clf = LogisticRegression(solver=\"lbfgs\").fit(train_x, train_y)\n",
        "pred_y = clf.predict(val_x)\n",
        "\n",
        "print (\"\")\n",
        "print (\"Classification Report: \")\n",
        "print (classification_report(val_y, pred_y))\n",
        "\n",
        "print (\"\")\n",
        "print (\"Accuracy Score: \", accuracy_score(val_y, pred_y))"
      ],
      "metadata": {
        "id": "HSohiZMac4EZ"
      },
      "id": "HSohiZMac4EZ",
      "execution_count": null,
      "outputs": []
    },
    {
      "cell_type": "code",
      "source": [
        "# Random Forest\n",
        "from sklearn.ensemble import RandomForestClassifier\n",
        "from sklearn.model_selection import train_test_split\n",
        "from sklearn.model_selection import cross_val_score\n",
        "\n",
        "# train_x, val_x, train_y, val_y = train_test_split(X, Y, test_size=0.25)\n",
        "rf =RandomForestClassifier(n_estimators=10)\n",
        "rf.fit(train_x, train_y)\n",
        "pred_y = rf.predict(val_x);\n",
        "\n",
        "print (\"\")\n",
        "print (\"Classification Report: \")\n",
        "print (classification_report(val_y, pred_y))\n",
        "\n",
        "print (\"\")\n",
        "print (\"Accuracy Score: \", accuracy_score(val_y, pred_y))"
      ],
      "metadata": {
        "id": "M6N6-EiYc4G5"
      },
      "id": "M6N6-EiYc4G5",
      "execution_count": null,
      "outputs": []
    },
    {
      "cell_type": "code",
      "source": [
        "# KNN\n",
        "from sklearn.neighbors import KNeighborsClassifier\n",
        "from sklearn.model_selection import cross_val_score\n",
        "import numpy as np\n",
        "\n",
        "train_x, val_x, train_y, val_y = train_test_split(X, Y, test_size=0.25)\n",
        "knn = KNeighborsClassifier(n_neighbors = 10)\n",
        "knn.fit(train_x, train_y)\n",
        "pred_y = rf.predict(val_x);\n",
        "\n",
        "print (\"\")\n",
        "print (\"Classification Report: \")\n",
        "print (classification_report(val_y, pred_y))\n",
        "\n",
        "print (\"\")\n",
        "print (\"Accuracy Score: \", accuracy_score(val_y, pred_y))"
      ],
      "metadata": {
        "id": "1FFqGiYsc4KR"
      },
      "id": "1FFqGiYsc4KR",
      "execution_count": null,
      "outputs": []
    },
    {
      "cell_type": "code",
      "source": [
        "# SVM\n",
        "from sklearn import svm\n",
        "# train_x, val_x, train_y, val_y = train_test_split(X, Y, test_size=0.25)\n",
        "clf = svm.SVC(kernel='linear')\n",
        "clf.fit(train_x, train_y)\n",
        "pred_y = clf.predict(val_x);\n",
        "\n",
        "print (\"\")\n",
        "print (\"Classification Report: \")\n",
        "print (classification_report(val_y, pred_y))\n",
        "\n",
        "print (\"\")\n",
        "print (\"Accuracy Score: \", accuracy_score(val_y, pred_y))"
      ],
      "metadata": {
        "id": "Uwl_3ZiYdgcu"
      },
      "id": "Uwl_3ZiYdgcu",
      "execution_count": null,
      "outputs": []
    },
    {
      "cell_type": "code",
      "source": [
        "# Naive Bayes\n",
        "from sklearn.naive_bayes import GaussianNB\n",
        "# train_x, val_x, train_y, val_y = train_test_split(X, Y, test_size=0.25)\n",
        "gnb = GaussianNB()\n",
        "gnb.fit(train_x, train_y)\n",
        "pred_y = gnb.predict(val_x);\n",
        "\n",
        "print (\"\")\n",
        "print (\"Classification Report: \")\n",
        "print (classification_report(val_y, pred_y))\n",
        "\n",
        "print (\"\")\n",
        "print (\"Accuracy Score: \", accuracy_score(val_y, pred_y))"
      ],
      "metadata": {
        "id": "f4kO1yY_dkIC"
      },
      "id": "f4kO1yY_dkIC",
      "execution_count": null,
      "outputs": []
    }
  ],
  "metadata": {
    "colab": {
      "provenance": []
    },
    "kernelspec": {
      "display_name": "Python 3",
      "language": "python",
      "name": "python3"
    },
    "language_info": {
      "codemirror_mode": {
        "name": "ipython",
        "version": 3
      },
      "file_extension": ".py",
      "mimetype": "text/x-python",
      "name": "python",
      "nbconvert_exporter": "python",
      "pygments_lexer": "ipython3",
      "version": "3.8.8"
    }
  },
  "nbformat": 4,
  "nbformat_minor": 5
}